{
 "cells": [
  {
   "cell_type": "code",
   "execution_count": 1,
   "metadata": {},
   "outputs": [],
   "source": [
    "#Variable Assgnments\n",
    "\n",
    "#Python using dynamic typing\n",
    "# num = 2 then can assign num = [\"name\",\"grade\"]\n",
    "#in C++ that will be 'int assign_name' then cannot change the data type in the rest of the code\n",
    "\n",
    "a = 5"
   ]
  },
  {
   "cell_type": "code",
   "execution_count": 2,
   "metadata": {},
   "outputs": [
    {
     "data": {
      "text/plain": [
       "5"
      ]
     },
     "execution_count": 2,
     "metadata": {},
     "output_type": "execute_result"
    }
   ],
   "source": [
    "a"
   ]
  },
  {
   "cell_type": "code",
   "execution_count": 3,
   "metadata": {},
   "outputs": [],
   "source": [
    "a = 10"
   ]
  },
  {
   "cell_type": "code",
   "execution_count": 4,
   "metadata": {},
   "outputs": [
    {
     "data": {
      "text/plain": [
       "10"
      ]
     },
     "execution_count": 4,
     "metadata": {},
     "output_type": "execute_result"
    }
   ],
   "source": [
    "a"
   ]
  },
  {
   "cell_type": "code",
   "execution_count": 5,
   "metadata": {},
   "outputs": [
    {
     "data": {
      "text/plain": [
       "20"
      ]
     },
     "execution_count": 5,
     "metadata": {},
     "output_type": "execute_result"
    }
   ],
   "source": [
    "a + a "
   ]
  },
  {
   "cell_type": "code",
   "execution_count": 6,
   "metadata": {},
   "outputs": [],
   "source": [
    "a = a + a"
   ]
  },
  {
   "cell_type": "code",
   "execution_count": 7,
   "metadata": {},
   "outputs": [
    {
     "data": {
      "text/plain": [
       "20"
      ]
     },
     "execution_count": 7,
     "metadata": {},
     "output_type": "execute_result"
    }
   ],
   "source": [
    "a"
   ]
  },
  {
   "cell_type": "code",
   "execution_count": 8,
   "metadata": {},
   "outputs": [
    {
     "data": {
      "text/plain": [
       "int"
      ]
     },
     "execution_count": 8,
     "metadata": {},
     "output_type": "execute_result"
    }
   ],
   "source": [
    "type(a)\n",
    "\n",
    "# 'type' can check what the type of a variable\n",
    "# the 'int' is a special build in name that cannot be assigned to variables"
   ]
  },
  {
   "cell_type": "code",
   "execution_count": 9,
   "metadata": {},
   "outputs": [],
   "source": [
    "my_income = 100\n",
    "tax_rate = 0.1\n",
    "\n",
    "my_taxes = my_income*tax_rate"
   ]
  },
  {
   "cell_type": "code",
   "execution_count": 10,
   "metadata": {},
   "outputs": [
    {
     "data": {
      "text/plain": [
       "10.0"
      ]
     },
     "execution_count": 10,
     "metadata": {},
     "output_type": "execute_result"
    }
   ],
   "source": [
    "my_taxes"
   ]
  },
  {
   "cell_type": "code",
   "execution_count": null,
   "metadata": {},
   "outputs": [],
   "source": []
  },
  {
   "cell_type": "code",
   "execution_count": null,
   "metadata": {},
   "outputs": [],
   "source": []
  },
  {
   "cell_type": "code",
   "execution_count": 11,
   "metadata": {},
   "outputs": [
    {
     "name": "stdout",
     "output_type": "stream",
     "text": [
      "hello\n"
     ]
    }
   ],
   "source": [
    "#Strings: Strings are ordered sequences that can use indexing and slicing to grab\n",
    "#sub-section. That can be use sigle or double quote. \n",
    "\n",
    "#!!!! String in Python is Immutability which means that cannot reassign new char in a string\n",
    "\n",
    "#Index start with zero just like other languages\n",
    "#example: hello the index[0] is h\n",
    "#also reverse index is available that index that -1 represents the last char but the index[0] is still the first char\n",
    "\n",
    "#Slicing: [Start:stop:step]\n",
    "\n",
    "#example print string\n",
    "\n",
    "print(\"hello\")\n"
   ]
  },
  {
   "cell_type": "code",
   "execution_count": 12,
   "metadata": {},
   "outputs": [],
   "source": [
    "# Create string to reassign string\n",
    "\n",
    "name = \"Sam\""
   ]
  },
  {
   "cell_type": "code",
   "execution_count": 13,
   "metadata": {},
   "outputs": [
    {
     "data": {
      "text/plain": [
       "'Sam'"
      ]
     },
     "execution_count": 13,
     "metadata": {},
     "output_type": "execute_result"
    }
   ],
   "source": [
    "name"
   ]
  },
  {
   "cell_type": "code",
   "execution_count": 14,
   "metadata": {},
   "outputs": [],
   "source": [
    "last_letters = name[1:]"
   ]
  },
  {
   "cell_type": "code",
   "execution_count": 15,
   "metadata": {},
   "outputs": [
    {
     "data": {
      "text/plain": [
       "'am'"
      ]
     },
     "execution_count": 15,
     "metadata": {},
     "output_type": "execute_result"
    }
   ],
   "source": [
    "last_letters"
   ]
  },
  {
   "cell_type": "code",
   "execution_count": 16,
   "metadata": {},
   "outputs": [
    {
     "data": {
      "text/plain": [
       "'Pam'"
      ]
     },
     "execution_count": 16,
     "metadata": {},
     "output_type": "execute_result"
    }
   ],
   "source": [
    "'P' + last_letters"
   ]
  },
  {
   "cell_type": "code",
   "execution_count": 17,
   "metadata": {},
   "outputs": [
    {
     "data": {
      "text/plain": [
       "'Hello World This is a wonderful world'"
      ]
     },
     "execution_count": 17,
     "metadata": {},
     "output_type": "execute_result"
    }
   ],
   "source": [
    "x = 'Hello World'\n",
    "x + \" This is a wonderful world\"\n",
    "\n",
    "#String is also can assigned to a variable\n",
    "# Ex. x = x + \"String\""
   ]
  },
  {
   "cell_type": "code",
   "execution_count": 18,
   "metadata": {},
   "outputs": [
    {
     "data": {
      "text/plain": [
       "'zzzzzzzzzz'"
      ]
     },
     "execution_count": 18,
     "metadata": {},
     "output_type": "execute_result"
    }
   ],
   "source": [
    "letter = 'z'\n",
    "letter*10"
   ]
  },
  {
   "cell_type": "code",
   "execution_count": 19,
   "metadata": {},
   "outputs": [
    {
     "data": {
      "text/plain": [
       "5"
      ]
     },
     "execution_count": 19,
     "metadata": {},
     "output_type": "execute_result"
    }
   ],
   "source": [
    "2 + 3"
   ]
  },
  {
   "cell_type": "code",
   "execution_count": 20,
   "metadata": {},
   "outputs": [
    {
     "data": {
      "text/plain": [
       "'23'"
      ]
     },
     "execution_count": 20,
     "metadata": {},
     "output_type": "execute_result"
    }
   ],
   "source": [
    "'2' + '3'\n",
    "\n",
    "#string will not be add 2 and 3. Instead of that will combined 2 and 3 in a string"
   ]
  },
  {
   "cell_type": "code",
   "execution_count": 21,
   "metadata": {},
   "outputs": [
    {
     "data": {
      "text/plain": [
       "'HELLO WORLD'"
      ]
     },
     "execution_count": 21,
     "metadata": {},
     "output_type": "execute_result"
    }
   ],
   "source": [
    "x = 'Hello World'\n",
    "x.upper()\n",
    "\n",
    "# upper() is a build in funciton in Python\n",
    "#if forgot () then that will print out the help info"
   ]
  },
  {
   "cell_type": "code",
   "execution_count": 23,
   "metadata": {},
   "outputs": [
    {
     "data": {
      "text/plain": [
       "['Th', 's ', 's a str', 'ng']"
      ]
     },
     "execution_count": 23,
     "metadata": {},
     "output_type": "execute_result"
    }
   ],
   "source": [
    "x = 'This is a string'\n",
    "x.split()\n",
    "\n",
    "# split() will make the string to be a list\n",
    "\n",
    "x.split('i') #split by a specific letter"
   ]
  },
  {
   "cell_type": "code",
   "execution_count": 28,
   "metadata": {},
   "outputs": [
    {
     "name": "stdout",
     "output_type": "stream",
     "text": [
      "This is a string INSERTED\n",
      "The quick brown fox\n",
      "The quick brown fox\n"
     ]
    }
   ],
   "source": [
    "#formatting strings\n",
    "\n",
    "#.format() method\n",
    "# f-string method\n",
    "\n",
    "#.format() method\n",
    "\n",
    "print('This is a string {}'.format('INSERTED'))\n",
    "# The .format will grab the string to insert into the {}\n",
    "\n",
    "#String is also can insert in index position\n",
    "#Ex.\n",
    "\n",
    "print('The {2} {1} {0}'.format('fox','brown','quick'))\n",
    "\n",
    "# Another ex.using the keyword method\n",
    "\n",
    "print('The {q} {b} {f}'.format(f = 'fox', b = 'brown', q = 'quick'))\n"
   ]
  },
  {
   "cell_type": "code",
   "execution_count": 30,
   "metadata": {},
   "outputs": [
    {
     "name": "stdout",
     "output_type": "stream",
     "text": [
      "The result was 0.129\n"
     ]
    }
   ],
   "source": [
    "# Float formatting follows \"{value:width.precision f}\"\n",
    "\n",
    "result = 100/777\n",
    "\n",
    "print('The result was {r:1.3f}'.format(r = result))\n",
    "\n",
    "# {r:1.3f} r is the value, 1 is the width that is how wide that string will be, \n",
    "#the .3f that is the how many digits after the decimal point"
   ]
  },
  {
   "cell_type": "code",
   "execution_count": 36,
   "metadata": {},
   "outputs": [
    {
     "name": "stdout",
     "output_type": "stream",
     "text": [
      "Hello, his name is Jose\n",
      "Sam is 3 years old.\n"
     ]
    }
   ],
   "source": [
    "name = \"Jose\"\n",
    "\n",
    "print(f'Hello, his name is {name}')\n",
    "\n",
    "# f is the f-string in python that print the string directly without using .format\n",
    "\n",
    "new_name = 'Sam'\n",
    "age = 3\n",
    "\n",
    "print(f'{new_name} is {age} years old.')"
   ]
  },
  {
   "cell_type": "code",
   "execution_count": 52,
   "metadata": {},
   "outputs": [
    {
     "data": {
      "text/plain": [
       "['a', 'b', 'c', 'e', 'x']"
      ]
     },
     "execution_count": 52,
     "metadata": {},
     "output_type": "execute_result"
    }
   ],
   "source": [
    "# List in Python\n",
    "#Support indexing and slicing\n",
    "\n",
    "#list can mix string and numbers\n",
    "mylist = ['String',100,23.2]\n",
    "mylist\n",
    "\n",
    "mylist = ['one','two','three']\n",
    "mylist[0] #print one \n",
    "mylist[1:] \n",
    "\n",
    "#list can be combined\n",
    "\n",
    "another_list = ['four','five']\n",
    "\n",
    "new_list = mylist+ another_list\n",
    "new_list\n",
    "\n",
    "# to change an element in list by using indexing\n",
    "\n",
    "new_list[0] = 'TEST'\n",
    "new_list.append('six') # to add the item 'six' at the end of a list\n",
    "new_list\n",
    "\n",
    "# remove item from a list\n",
    "new_list.pop() #that popped the lastest element in a list\n",
    "\n",
    "new_list.pop(0) #pop is also can remove specific item by using index\n",
    "\n",
    "\n",
    "newest_list = ['a','e','x','b','c']\n",
    "num_list = [4,1,3,2]\n",
    "\n",
    "newest_list.sort()\n",
    "newest_list\n",
    "\n",
    "#the sort() cannot assigned to a variable\n",
    "#Ex. my_sorted_list = newest_list.sort() since the soft() is a None type\n",
    "# do this instead\n",
    "my_sorted_list = newest_list\n",
    "my_sorted_list"
   ]
  },
  {
   "cell_type": "code",
   "execution_count": null,
   "metadata": {},
   "outputs": [],
   "source": []
  }
 ],
 "metadata": {
  "kernelspec": {
   "display_name": "Python 3",
   "language": "python",
   "name": "python3"
  },
  "language_info": {
   "codemirror_mode": {
    "name": "ipython",
    "version": 3
   },
   "file_extension": ".py",
   "mimetype": "text/x-python",
   "name": "python",
   "nbconvert_exporter": "python",
   "pygments_lexer": "ipython3",
   "version": "3.7.1"
  }
 },
 "nbformat": 4,
 "nbformat_minor": 2
}
